{
 "cells": [
  {
   "cell_type": "code",
   "execution_count": 1,
   "id": "1221ffe2-fc29-409a-97c2-e81f304005bc",
   "metadata": {},
   "outputs": [],
   "source": [
    "import pickle\n",
    "import os, sys\n",
    "\n",
    "import numpy as np\n",
    "import pandas as pd\n",
    "\n",
    "from itertools import chain\n",
    "from collections import Counter, defaultdict"
   ]
  },
  {
   "cell_type": "markdown",
   "id": "0d1ab70c-3c20-4740-a646-92f2efdcd4ba",
   "metadata": {},
   "source": [
    "# Step 1: Load job transition data"
   ]
  },
  {
   "cell_type": "markdown",
   "id": "c7343210-2380-449e-ad34-33b7840f79ec",
   "metadata": {},
   "source": [
    "Each line is a job transition record"
   ]
  },
  {
   "cell_type": "code",
   "execution_count": 3,
   "id": "c6da32b8-7703-426a-a63d-8ae576ab51c5",
   "metadata": {},
   "outputs": [],
   "source": [
    "df_transition = pd.read_csv('../data/cb12/processed/job_transition_MinorGroup200.csv', sep=';')"
   ]
  },
  {
   "cell_type": "markdown",
   "id": "697c8bbb-52c8-495d-887c-cba74ed93067",
   "metadata": {},
   "source": [
    "# Step 2: Create JobTitle file"
   ]
  },
  {
   "cell_type": "code",
   "execution_count": 4,
   "id": "a6bcb088-182e-4bad-a898-a3cbd501dfb3",
   "metadata": {},
   "outputs": [
    {
     "name": "stdout",
     "output_type": "stream",
     "text": [
      "(18088, 5)\n"
     ]
    }
   ],
   "source": [
    "list_UserId = []\n",
    "list_JobTitle = []\n",
    "list_DetailedOccupation = []\n",
    "list_MinorGroup = []\n",
    "list_MajorGroup = []\n",
    "\n",
    "for idx, row in df_transition.iterrows():\n",
    "    UserID = row['UserID']\n",
    "    for item in eval(row['Combined_EmploymentItems']):\n",
    "        list_UserId.append(UserID)\n",
    "        list_DetailedOccupation.append(item[0])\n",
    "        list_MinorGroup.append(item[1])\n",
    "        list_MajorGroup.append(item[2])\n",
    "        list_JobTitle.append(item[3])\n",
    "    \n",
    "    \n",
    "df_title = {\"UserId\": list_UserId, \n",
    "            \"JobTitle\": list_JobTitle, \n",
    "            \"DetailedOccupation\": list_DetailedOccupation, \n",
    "            \"MinorGroup\": list_MinorGroup, \n",
    "            \"MajorGroup\": list_MajorGroup}\n",
    "df_title = pd.DataFrame(df_title)\n",
    "df_title.index.name = 'Index'\n",
    "\n",
    "\n",
    "print(df_title.shape)   \n",
    "\n",
    "df_title.to_csv('../data/cb12/processed/job_title_raw.csv', sep=';')\n",
    "f_out = open(b'../data/cb12/processed/job_title_raw.pkl', 'wb')\n",
    "pickle.dump(df_title, f_out)"
   ]
  },
  {
   "cell_type": "markdown",
   "id": "6265a052-4596-4ae6-aced-3cce16266eaa",
   "metadata": {},
   "source": [
    "# Step 3: Tokenize job title"
   ]
  },
  {
   "cell_type": "markdown",
   "id": "7959d672-259a-48b7-b6c8-2794decfa6f0",
   "metadata": {},
   "source": [
    "Use your own tokenizer or load directly job_title_raw.nlp.token.pkl"
   ]
  },
  {
   "cell_type": "raw",
   "id": "b73ad12d-137f-4de5-9303-80903d64ad11",
   "metadata": {},
   "source": [
    "python3 scripts/ontology/nlp.py -input data/cb12/processed/job_title_raw.pkl -column JobTitle -tokenize -lang en\n",
    "\n",
    "python3 scripts/ontology/tokenize.py -input_path data/cb12/processed/job_title_raw.nlp.pkl -column JobTitle -lower -unidecode -remove_stop -lang en -stem -output_path data/cb12/processed/job_title_raw.nlp.token_lemma.pkl"
   ]
  },
  {
   "cell_type": "code",
   "execution_count": 5,
   "id": "b6966c2b-fb73-4cbf-8bb3-375fdd5ff010",
   "metadata": {},
   "outputs": [],
   "source": [
    "with open('../data/cb12/processed/job_title_raw.nlp.token.pkl', 'rb') as f:\n",
    "    df_title_nlp = pickle.load(f)"
   ]
  },
  {
   "cell_type": "code",
   "execution_count": 6,
   "id": "c9a65142-f4d6-41af-a55d-423aed14b858",
   "metadata": {},
   "outputs": [
    {
     "name": "stdout",
     "output_type": "stream",
     "text": [
      "Vocab size: 3619\n"
     ]
    }
   ],
   "source": [
    "vocab = set(chain(chain.from_iterable(df_title_nlp['JobTitle_token'].str.split())))\n",
    "print('Vocab size: {}'.format(len(vocab)))\n",
    "word_to_id = {token: idx for idx, token in enumerate(vocab)}"
   ]
  },
  {
   "cell_type": "code",
   "execution_count": 7,
   "id": "aa8f0554-e07c-4c95-8dfa-9b8b89d3109e",
   "metadata": {},
   "outputs": [],
   "source": [
    "freqs = dict(Counter(chain(chain.from_iterable(df_title_nlp['JobTitle_token'].str.split()))).most_common())\n",
    "freqs_1 = {k:v for k,v in dict(freqs).items() if v==1}\n",
    "freqs_ = {k:v for k,v in dict(freqs).items() if v>1}"
   ]
  },
  {
   "cell_type": "code",
   "execution_count": 8,
   "id": "cd62c338-b2b9-4372-9e51-7008ec925275",
   "metadata": {},
   "outputs": [
    {
     "data": {
      "text/plain": [
       "0.5355070461453441"
      ]
     },
     "execution_count": 8,
     "metadata": {},
     "output_type": "execute_result"
    }
   ],
   "source": [
    "len(freqs_1)/len(freqs)"
   ]
  },
  {
   "cell_type": "markdown",
   "id": "c3ba2607-93c2-4bbd-9b88-0a1b9cd830bf",
   "metadata": {},
   "source": [
    "### Vocab dictionary"
   ]
  },
  {
   "cell_type": "code",
   "execution_count": 9,
   "id": "b96b71a9-7505-4adc-9907-b9dc3ea38d55",
   "metadata": {},
   "outputs": [
    {
     "name": "stdout",
     "output_type": "stream",
     "text": [
      "1681\n",
      "1682\n"
     ]
    }
   ],
   "source": [
    "word_to_id = {token: idx+1 for idx, token in enumerate(freqs_)}\n",
    "print(len(word_to_id))\n",
    "word_to_id[\"UNKNOWN\"] = 0\n",
    "print(len(word_to_id))"
   ]
  },
  {
   "cell_type": "code",
   "execution_count": 10,
   "id": "f57cdfb6-c13e-49ab-873b-51f030568f3b",
   "metadata": {},
   "outputs": [],
   "source": [
    "df_title = df_title.merge(df_title_nlp, on='Index')"
   ]
  },
  {
   "cell_type": "code",
   "execution_count": 11,
   "id": "e0574fb7-0bde-478e-b517-3a6bddd6628e",
   "metadata": {},
   "outputs": [],
   "source": [
    "def Word2Id(title):\n",
    "    title = title.split(\" \")\n",
    "    idx = []\n",
    "    for t in title:\n",
    "        if t in word_to_id:\n",
    "            idx.append(word_to_id[t])\n",
    "        else:\n",
    "            idx.append(word_to_id[\"UNKNOWN\"])\n",
    "        \n",
    "    return idx"
   ]
  },
  {
   "cell_type": "code",
   "execution_count": 12,
   "id": "685935d4-30be-4994-9d3e-6b96ad62b4be",
   "metadata": {},
   "outputs": [],
   "source": [
    "df_title['JobTitle_token_Id'] = df_title.JobTitle_token.apply(lambda x: Word2Id(x))\n",
    "df_title.dropna(how='any', inplace=True)"
   ]
  },
  {
   "cell_type": "code",
   "execution_count": 13,
   "id": "4d71eeab-f59f-4d18-9127-8b531168b188",
   "metadata": {},
   "outputs": [
    {
     "name": "stdout",
     "output_type": "stream",
     "text": [
      "Vocab size: 1682\n"
     ]
    }
   ],
   "source": [
    "vocab_lemma = set(chain(chain.from_iterable(df_title['JobTitle_token_Id'])))\n",
    "print('Vocab size: {}'.format(len(vocab_lemma)))"
   ]
  },
  {
   "cell_type": "code",
   "execution_count": 14,
   "id": "0e541c86-237a-45be-b9bf-e2f0df000a99",
   "metadata": {},
   "outputs": [],
   "source": [
    "df_title.to_csv('../data/cb12/processed/df_title_MinorGroup200_tokenized.csv', sep=';')"
   ]
  },
  {
   "cell_type": "markdown",
   "id": "e8e5768b-959e-4a5f-b1ac-6550fde0b0b6",
   "metadata": {},
   "source": [
    "# Step 4: Generate tags"
   ]
  },
  {
   "cell_type": "code",
   "execution_count": 19,
   "id": "c26ebc3e-03c6-4b1a-a5aa-20b47d92b51b",
   "metadata": {},
   "outputs": [
    {
     "name": "stdout",
     "output_type": "stream",
     "text": [
      "(1500, 4)\n",
      "(1500, 5)\n"
     ]
    }
   ],
   "source": [
    "df_gazetteer = pd.read_csv('../data/IPOD-master/gazetteer.csv')\n",
    "print(df_gazetteer.shape)\n",
    "df_gazetteer['A'] = [max(list(row[['A1', 'A2', 'A3']]), key=list(row[['A1', 'A2', 'A3']]).count) for idx, row in df_gazetteer.iterrows()]\n",
    "print(df_gazetteer.shape)"
   ]
  },
  {
   "cell_type": "markdown",
   "id": "70b114b7-1a9d-41e9-96ab-fe397cfc8caf",
   "metadata": {},
   "source": [
    "### Top-200 has 197 in IPOD"
   ]
  },
  {
   "cell_type": "code",
   "execution_count": 30,
   "id": "01a28c56-cb6d-4b27-94cb-2cc21aa604da",
   "metadata": {},
   "outputs": [],
   "source": [
    "Tags = list(Counter(chain(chain.from_iterable(df_title_nlp['JobTitle_token'].str.split()))).most_common(203))"
   ]
  },
  {
   "cell_type": "code",
   "execution_count": 31,
   "id": "fc35c9e8-bdd6-4ed5-b405-7ee6156a4772",
   "metadata": {},
   "outputs": [],
   "source": [
    "Tags = [t[0] for t in Tags if t[0] in list(df_gazetteer.Title)]"
   ]
  },
  {
   "cell_type": "code",
   "execution_count": 35,
   "id": "1a7d7fed-a5d5-4050-9a50-10795cf4fcc8",
   "metadata": {},
   "outputs": [],
   "source": [
    "with open('../data/cb12/processed/Tags_MinorGroup200' + '_' + str(len(Tags)) + '.txt', 'w') as f:\n",
    "    for v in Tags:\n",
    "        f.write(v)\n",
    "        f.write('\\n')"
   ]
  },
  {
   "cell_type": "code",
   "execution_count": null,
   "id": "dfbf0419-d666-434b-8b4b-2c8779b15428",
   "metadata": {},
   "outputs": [],
   "source": []
  }
 ],
 "metadata": {
  "kernelspec": {
   "display_name": "py3.7",
   "language": "python",
   "name": "py3.7"
  },
  "language_info": {
   "codemirror_mode": {
    "name": "ipython",
    "version": 3
   },
   "file_extension": ".py",
   "mimetype": "text/x-python",
   "name": "python",
   "nbconvert_exporter": "python",
   "pygments_lexer": "ipython3",
   "version": "3.7.11"
  }
 },
 "nbformat": 4,
 "nbformat_minor": 5
}
