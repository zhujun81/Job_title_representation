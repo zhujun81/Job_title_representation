{
 "cells": [
  {
   "cell_type": "code",
   "execution_count": 28,
   "id": "47b0adc9-3ba2-4433-aede-741786a926b7",
   "metadata": {},
   "outputs": [],
   "source": [
    "import numpy as np\n",
    "import pandas as pd\n",
    "\n",
    "from itertools import chain"
   ]
  },
  {
   "cell_type": "code",
   "execution_count": 9,
   "id": "9e6e0516-726e-4bb3-b804-10c2f886cd1e",
   "metadata": {},
   "outputs": [
    {
     "name": "stdout",
     "output_type": "stream",
     "text": [
      "(18088, 8)\n",
      "Number of unique JobTitles (raw):  9219\n",
      "Number of unique tokenized JobTitles:  9216\n",
      "Number of unique Users:  4907\n"
     ]
    }
   ],
   "source": [
    "df_title = pd.read_csv('../data/cb12/processed/df_title_MinorGroup200_tokenized.csv', sep=';')\n",
    "print(df_title.shape)\n",
    "print(\"Number of unique JobTitles (raw): \", len(df_title.JobTitle.unique()))\n",
    "print(\"Number of unique tokenized JobTitles: \", len(df_title.JobTitle_token.unique()))\n",
    "print(\"Number of unique Users: \", len(df_title.UserId.unique()))"
   ]
  },
  {
   "cell_type": "code",
   "execution_count": 45,
   "id": "d91338da-b41c-4556-8efa-f8b8d3896d4c",
   "metadata": {},
   "outputs": [
    {
     "name": "stdout",
     "output_type": "stream",
     "text": [
      "Vocab size: 1682\n"
     ]
    }
   ],
   "source": [
    "vocab_lemma_filtered = set(chain(chain.from_iterable([eval(x) for x in df_title['JobTitle_token_Id']])))\n",
    "print('Vocab size: {}'.format(len(vocab_lemma_filtered)))"
   ]
  },
  {
   "cell_type": "markdown",
   "id": "4d66c7fd-f24d-41a5-a1be-42b622019ced",
   "metadata": {},
   "source": [
    "# Step1: Create file"
   ]
  },
  {
   "cell_type": "markdown",
   "id": "fc069ab9-6bcf-4a7d-835c-ce224910bc0e",
   "metadata": {},
   "source": [
    "### titles.csv"
   ]
  },
  {
   "cell_type": "code",
   "execution_count": 46,
   "id": "1d984658-98f1-40a2-ac70-ad37a15569a5",
   "metadata": {},
   "outputs": [],
   "source": [
    "Ids = []\n",
    "JobTitle_tokens = []\n",
    "JobTitle_tokens_idx = []\n",
    "MajorGroups = []\n",
    "MinorGroups = []\n",
    "DetailedOccupations = []\n",
    "\n",
    "Id = 0\n",
    "for idx, row in df_title.iterrows():\n",
    "    if row[\"JobTitle_token\"] not in JobTitle_tokens:\n",
    "        Ids.append(Id)\n",
    "        JobTitle_tokens.append(row[\"JobTitle_token\"])\n",
    "        JobTitle_tokens_idx.append(row[\"JobTitle_token_Id\"])\n",
    "        MajorGroups.append(row[\"MajorGroup\"])\n",
    "        MinorGroups.append(row[\"MinorGroup\"])\n",
    "        DetailedOccupations.append(row[\"DetailedOccupation\"])\n",
    "        Id+=1"
   ]
  },
  {
   "cell_type": "code",
   "execution_count": 47,
   "id": "98d5eaa8-ddec-45e3-991b-bfa17da4fec2",
   "metadata": {},
   "outputs": [
    {
     "name": "stdout",
     "output_type": "stream",
     "text": [
      "(9216, 6)\n"
     ]
    }
   ],
   "source": [
    "titles = pd.DataFrame({\"Id\": Ids, \n",
    "                       \"MajorGroup\": MajorGroups, \n",
    "                       \"MinorGroup\": MinorGroups, \n",
    "                       \"DetailedOccupation\": DetailedOccupations, \n",
    "                       \"JobTitle_tokens\": JobTitle_tokens,\n",
    "                       \"JobTitle_tokens_idx\": JobTitle_tokens_idx})\n",
    "print(titles.shape)\n",
    "titles.to_csv('../data/cb12/graph/titles.csv', sep=';')"
   ]
  },
  {
   "cell_type": "code",
   "execution_count": 48,
   "id": "6e62033d-99a8-4afc-834e-230ea31a41a0",
   "metadata": {},
   "outputs": [],
   "source": [
    "dict_JobTitle_tokens2Id = dict(zip(JobTitle_tokens, Ids))"
   ]
  },
  {
   "cell_type": "code",
   "execution_count": 49,
   "id": "c8097bc3-3dbc-4115-90ef-188cc47c837b",
   "metadata": {},
   "outputs": [
    {
     "name": "stdout",
     "output_type": "stream",
     "text": [
      "300\n",
      "32\n",
      "16\n"
     ]
    }
   ],
   "source": [
    "print(len(titles.DetailedOccupation.unique()))\n",
    "print(len(titles.MinorGroup.unique()))\n",
    "print(len(titles.MajorGroup.unique()))"
   ]
  },
  {
   "cell_type": "markdown",
   "id": "51c2041a-db4b-4904-9851-68cd652d5b60",
   "metadata": {},
   "source": [
    "### title_title_transition.csv"
   ]
  },
  {
   "cell_type": "code",
   "execution_count": 86,
   "id": "0e93e143-7a89-4504-9a0a-b093854f8acc",
   "metadata": {},
   "outputs": [
    {
     "name": "stdout",
     "output_type": "stream",
     "text": [
      "11996\n",
      "13181\n",
      "0.04768256085361787\n",
      "20640\n",
      "21825\n"
     ]
    }
   ],
   "source": [
    "Weight = defaultdict(int)\n",
    "\n",
    "for filename, rows in df_title.groupby('UserId'):\n",
    "    titles_thisresume = rows['JobTitle_token'].tolist()\n",
    "    for i in range(len(titles_thisresume)):\n",
    "        if i < len(titles_thisresume)-1:\n",
    "            src = dict_JobTitle_tokens2Id[titles_thisresume[i]]\n",
    "            dst = dict_JobTitle_tokens2Id[titles_thisresume[i+1]]\n",
    "            Weight[(src,dst)] += 1\n",
    "\n",
    "\n",
    "print(len(Weight))\n",
    "print(np.sum(list(Weight.values())))\n",
    "print(len([v for k, v in Weight.items() if k[0]==k[1]])/ len(Weight))\n",
    "\n",
    "\n",
    "for idx, row in titles.iterrows():\n",
    "    job = row[\"Id\"]\n",
    "    if (job,job) not in Weight:\n",
    "        Weight[(job,job)] += 1\n",
    "                                  \n",
    "    \n",
    "print(len(Weight))\n",
    "print(np.sum(list(Weight.values())))\n",
    "\n",
    "Src = [edge[0] for edge in Weight.keys()]\n",
    "Dst = [edge[1] for edge in Weight.keys()]"
   ]
  },
  {
   "cell_type": "code",
   "execution_count": 88,
   "id": "94409db7-6ac7-4ad6-b683-c7b5fe1936df",
   "metadata": {},
   "outputs": [],
   "source": [
    "title_title_transition = pd.DataFrame({\"Src\": Src, \"Dst\": Dst, \"Weight\": list(Weight.values())})\n",
    "title_title_transition.to_csv('../data/cb12/graph/title_title_transition_MinorGroup200.csv', sep=';')"
   ]
  },
  {
   "cell_type": "markdown",
   "id": "fe7c7914-2990-44f4-b9cb-028c575d557e",
   "metadata": {},
   "source": [
    "### title_title_transition_enhanced.csv"
   ]
  },
  {
   "cell_type": "code",
   "execution_count": 90,
   "id": "a1c4b4b3-17e9-4a5d-820d-08a4dfd9450f",
   "metadata": {},
   "outputs": [],
   "source": [
    "f_in = open('../data/cb12/processed/Tags_MinorGroup200_200.txt', 'r')\n",
    "tags = f_in.readlines()\n",
    "tags = [t.strip('\\n') for t in tags]\n",
    "f_in.close()"
   ]
  },
  {
   "cell_type": "code",
   "execution_count": 93,
   "id": "11fea27d-84e8-4cb3-9ac1-f9e6a80b4917",
   "metadata": {},
   "outputs": [
    {
     "name": "stdout",
     "output_type": "stream",
     "text": [
      "11996\n",
      "13181\n",
      "0.04768256085361787\n",
      "6477442\n",
      "7133880\n",
      "6477819\n",
      "7134257\n"
     ]
    }
   ],
   "source": [
    "Weight = defaultdict(int)\n",
    "for filename, rows in df_title.groupby('UserId'):\n",
    "    titles_thisresume = rows['JobTitle_token'].tolist()\n",
    "    for i in range(len(titles_thisresume)):\n",
    "        if i < len(titles_thisresume)-1:\n",
    "            src = dict_JobTitle_tokens2Id[titles_thisresume[i]]\n",
    "            dst = dict_JobTitle_tokens2Id[titles_thisresume[i+1]]\n",
    "            Weight[(src,dst)] += 1\n",
    "\n",
    "\n",
    "print(len(Weight))\n",
    "print(np.sum(list(Weight.values())))\n",
    "print(len([v for k, v in Weight.items() if k[0]==k[1]])/ len(Weight))\n",
    "\n",
    "list_JobTitle_tokens = dict_JobTitle_tokens2Id.keys()\n",
    "for tag in tags:\n",
    "    list_JobTitle_hastag = [title for title in list_JobTitle_tokens if tag in title.split()]\n",
    "    for i in range(len(list_JobTitle_hastag)):\n",
    "        for j in range(len(list_JobTitle_hastag)):\n",
    "            src = dict_JobTitle_tokens2Id[list_JobTitle_hastag[i]]\n",
    "            dst = dict_JobTitle_tokens2Id[list_JobTitle_hastag[j]]\n",
    "            Weight[(src,dst)] += 1\n",
    "\n",
    "    \n",
    "print(len(Weight))\n",
    "print(np.sum(list(Weight.values())))\n",
    "\n",
    "\n",
    "for idx, row in titles.iterrows():\n",
    "    job = row[\"Id\"]\n",
    "    if (job,job) not in Weight:\n",
    "        Weight[(job,job)] += 1\n",
    "                                  \n",
    "    \n",
    "print(len(Weight))\n",
    "print(np.sum(list(Weight.values())))\n",
    "\n",
    "\n",
    "Src = [edge[0] for edge in Weight.keys()]\n",
    "Dst = [edge[1] for edge in Weight.keys()]"
   ]
  },
  {
   "cell_type": "code",
   "execution_count": 94,
   "id": "43f737ed-3f30-4410-be6c-fb63ef305565",
   "metadata": {},
   "outputs": [],
   "source": [
    "title_title_transition = pd.DataFrame({\"Src\": Src, \"Dst\": Dst, \"Weight\": list(Weight.values())})\n",
    "title_title_transition.to_csv('../data/cb12/graph/title_title_transition_MinorGroup200_enhanced.csv', sep=';')"
   ]
  },
  {
   "cell_type": "markdown",
   "id": "1012b4ba-82e3-4032-9e82-f6a53d879c95",
   "metadata": {},
   "source": [
    "### id_Tag"
   ]
  },
  {
   "cell_type": "code",
   "execution_count": 17,
   "id": "c8bc153f-4db1-43a9-bf2a-9e27f49fd1bc",
   "metadata": {},
   "outputs": [],
   "source": [
    "f_in = open('../data/cb12/processed/Tags_MinorGroup200_200.txt', 'r')\n",
    "tags = f_in.readlines()\n",
    "f_in.close()"
   ]
  },
  {
   "cell_type": "code",
   "execution_count": 18,
   "id": "2df13927-de7f-457f-819c-03b5517aa8b9",
   "metadata": {},
   "outputs": [],
   "source": [
    "tags = [t.strip('\\n') for t in tags]"
   ]
  },
  {
   "cell_type": "code",
   "execution_count": 19,
   "id": "824f0e47-4cdf-41b3-b7d9-3dbe1f2fe8fc",
   "metadata": {},
   "outputs": [],
   "source": [
    "dict_Tag2id = dict()\n",
    "\n",
    "with open('../data/cb12/graph/id_tag.txt', 'w') as f:\n",
    "    for idx, tag in enumerate(tags):\n",
    "        f.write(str(idx) + '\\t' + 'Tag_' + tag)\n",
    "        f.write('\\n')\n",
    "        dict_Tag2id[tag] = idx\n",
    "f.close()"
   ]
  },
  {
   "cell_type": "markdown",
   "id": "d0f4298c-cbc5-498c-9faa-a02bbd338b0b",
   "metadata": {},
   "source": [
    "### id_title"
   ]
  },
  {
   "cell_type": "code",
   "execution_count": 10,
   "id": "d992df46-333b-45fd-9e2a-334adba9d170",
   "metadata": {},
   "outputs": [
    {
     "name": "stdout",
     "output_type": "stream",
     "text": [
      "Number of title: 9216\n"
     ]
    }
   ],
   "source": [
    "dict_title2id = dict()\n",
    "with open('../data/cb12/graph/id_title.txt', 'w') as f:\n",
    "    i = 0\n",
    "    for idx, title in enumerate(df_title.JobTitle_token.unique()):\n",
    "        title = '_'.join(title.split())\n",
    "        f.write(str(idx) + '\\t' + 'T_' + title)\n",
    "        f.write('\\n')\n",
    "        dict_title2id[title] = i\n",
    "        i+=1\n",
    "f.close()\n",
    "print('Number of title: {}'.format(len(dict_title2id)))"
   ]
  },
  {
   "cell_type": "markdown",
   "id": "543608b9-3ac5-42b3-aea3-a4532d0ccc96",
   "metadata": {},
   "source": [
    "### title_Tag"
   ]
  },
  {
   "cell_type": "code",
   "execution_count": 39,
   "id": "6346d874-dd69-433b-9f09-3f07c68b3101",
   "metadata": {},
   "outputs": [],
   "source": [
    "def work(title, tags):\n",
    "    result = []\n",
    "    for tag in tags:\n",
    "        if tag in title.split():\n",
    "            title = '_'.join(title.split())\n",
    "            result.append(str(dict_title2id[title]) + '\\t' + str(dict_Tag2id[tag]))\n",
    "            result.append(str(dict_title2id[title]) + '\\t' + str(dict_Tag2id[tag]))\n",
    "    return result"
   ]
  },
  {
   "cell_type": "code",
   "execution_count": 40,
   "id": "ed76b5dc-7393-4c88-80bd-afd2668abfe8",
   "metadata": {},
   "outputs": [],
   "source": [
    "title_tag = []\n",
    "for title in list(df_title.JobTitle_token.unique()):\n",
    "    title_tag.append(work(title, tags))"
   ]
  },
  {
   "cell_type": "code",
   "execution_count": 44,
   "id": "80c6b99e-311e-40ab-87bc-d6d6e2189e02",
   "metadata": {},
   "outputs": [
    {
     "data": {
      "text/plain": [
       "17598"
      ]
     },
     "execution_count": 44,
     "metadata": {},
     "output_type": "execute_result"
    }
   ],
   "source": [
    "len(title_tag)"
   ]
  },
  {
   "cell_type": "code",
   "execution_count": 42,
   "id": "2fb2f642-fc0e-4bee-9a79-d4c49f2475f8",
   "metadata": {},
   "outputs": [],
   "source": [
    "title_tag = list(chain(chain.from_iterable(title_tag)))"
   ]
  },
  {
   "cell_type": "code",
   "execution_count": null,
   "id": "d012bad9-65e9-4a67-80de-fb3de8f321b8",
   "metadata": {},
   "outputs": [],
   "source": [
    "title_tag"
   ]
  },
  {
   "cell_type": "markdown",
   "id": "50a8a892-ef2e-46aa-9f26-598fed7c5c98",
   "metadata": {},
   "source": [
    "### transition.csv"
   ]
  },
  {
   "cell_type": "code",
   "execution_count": 53,
   "id": "c52d2653-a4df-489f-9970-e5d4c5c5540f",
   "metadata": {},
   "outputs": [],
   "source": [
    "Src = []\n",
    "Dst = []\n",
    "Weight = []\n",
    "for filename, rows in df_title.groupby('UserId'):\n",
    "    i = 0\n",
    "    if i < len(rows)-1:\n",
    "        Src.append(dict_JobTitle_tokens2Id[rows[\"JobTitle_token\"].tolist()[i]])\n",
    "        Dst.append(dict_JobTitle_tokens2Id[rows[\"JobTitle_token\"].tolist()[i+1]])\n",
    "        Weight.append(1)\n",
    "        i+=1"
   ]
  },
  {
   "cell_type": "code",
   "execution_count": 54,
   "id": "eff877c2-92a4-44ea-9145-9eab5098efd2",
   "metadata": {},
   "outputs": [
    {
     "data": {
      "text/plain": [
       "4907"
      ]
     },
     "execution_count": 54,
     "metadata": {},
     "output_type": "execute_result"
    }
   ],
   "source": [
    "len(Weight)"
   ]
  },
  {
   "cell_type": "code",
   "execution_count": 26,
   "id": "87654739-e65e-4b4c-83b1-347ed6a064f0",
   "metadata": {},
   "outputs": [],
   "source": [
    "transitions = pd.DataFrame({\"Src\": Src, \"Dst\": Dst, \"Weight\": Weight})\n",
    "transitions.to_csv('../data/cb12/graph/transition.csv', sep=';')"
   ]
  },
  {
   "cell_type": "code",
   "execution_count": 28,
   "id": "9ef3e934-5daa-434a-bd88-900384203ab5",
   "metadata": {},
   "outputs": [
    {
     "data": {
      "text/html": [
       "<div>\n",
       "<style scoped>\n",
       "    .dataframe tbody tr th:only-of-type {\n",
       "        vertical-align: middle;\n",
       "    }\n",
       "\n",
       "    .dataframe tbody tr th {\n",
       "        vertical-align: top;\n",
       "    }\n",
       "\n",
       "    .dataframe thead th {\n",
       "        text-align: right;\n",
       "    }\n",
       "</style>\n",
       "<table border=\"1\" class=\"dataframe\">\n",
       "  <thead>\n",
       "    <tr style=\"text-align: right;\">\n",
       "      <th></th>\n",
       "      <th>Src</th>\n",
       "      <th>Dst</th>\n",
       "      <th>Weight</th>\n",
       "    </tr>\n",
       "  </thead>\n",
       "  <tbody>\n",
       "    <tr>\n",
       "      <th>0</th>\n",
       "      <td>0</td>\n",
       "      <td>1</td>\n",
       "      <td>1</td>\n",
       "    </tr>\n",
       "    <tr>\n",
       "      <th>1</th>\n",
       "      <td>2</td>\n",
       "      <td>3</td>\n",
       "      <td>1</td>\n",
       "    </tr>\n",
       "    <tr>\n",
       "      <th>2</th>\n",
       "      <td>4</td>\n",
       "      <td>5</td>\n",
       "      <td>1</td>\n",
       "    </tr>\n",
       "    <tr>\n",
       "      <th>3</th>\n",
       "      <td>7</td>\n",
       "      <td>8</td>\n",
       "      <td>1</td>\n",
       "    </tr>\n",
       "    <tr>\n",
       "      <th>4</th>\n",
       "      <td>10</td>\n",
       "      <td>11</td>\n",
       "      <td>1</td>\n",
       "    </tr>\n",
       "    <tr>\n",
       "      <th>...</th>\n",
       "      <td>...</td>\n",
       "      <td>...</td>\n",
       "      <td>...</td>\n",
       "    </tr>\n",
       "    <tr>\n",
       "      <th>4902</th>\n",
       "      <td>745</td>\n",
       "      <td>53</td>\n",
       "      <td>1</td>\n",
       "    </tr>\n",
       "    <tr>\n",
       "      <th>4903</th>\n",
       "      <td>42</td>\n",
       "      <td>4131</td>\n",
       "      <td>1</td>\n",
       "    </tr>\n",
       "    <tr>\n",
       "      <th>4904</th>\n",
       "      <td>24</td>\n",
       "      <td>9214</td>\n",
       "      <td>1</td>\n",
       "    </tr>\n",
       "    <tr>\n",
       "      <th>4905</th>\n",
       "      <td>9215</td>\n",
       "      <td>1341</td>\n",
       "      <td>1</td>\n",
       "    </tr>\n",
       "    <tr>\n",
       "      <th>4906</th>\n",
       "      <td>5536</td>\n",
       "      <td>49</td>\n",
       "      <td>1</td>\n",
       "    </tr>\n",
       "  </tbody>\n",
       "</table>\n",
       "<p>4907 rows × 3 columns</p>\n",
       "</div>"
      ],
      "text/plain": [
       "       Src   Dst  Weight\n",
       "0        0     1       1\n",
       "1        2     3       1\n",
       "2        4     5       1\n",
       "3        7     8       1\n",
       "4       10    11       1\n",
       "...    ...   ...     ...\n",
       "4902   745    53       1\n",
       "4903    42  4131       1\n",
       "4904    24  9214       1\n",
       "4905  9215  1341       1\n",
       "4906  5536    49       1\n",
       "\n",
       "[4907 rows x 3 columns]"
      ]
     },
     "execution_count": 28,
     "metadata": {},
     "output_type": "execute_result"
    }
   ],
   "source": [
    "transitions"
   ]
  },
  {
   "cell_type": "code",
   "execution_count": 27,
   "id": "4a3c8b92-30db-4fa2-8890-83fe0adc1ce6",
   "metadata": {},
   "outputs": [
    {
     "data": {
      "text/plain": [
       "(4907, 3)"
      ]
     },
     "execution_count": 27,
     "metadata": {},
     "output_type": "execute_result"
    }
   ],
   "source": [
    "transitions.shape"
   ]
  },
  {
   "cell_type": "markdown",
   "id": "e6c86253-68d5-4311-bee8-f09ed8063c63",
   "metadata": {},
   "source": [
    "### transition_enhanced.csv"
   ]
  },
  {
   "cell_type": "code",
   "execution_count": 22,
   "id": "8b297ed4-c6c8-4f10-b559-ac2ac7445986",
   "metadata": {},
   "outputs": [],
   "source": [
    "Src = []\n",
    "Dst = []\n",
    "Weight = []\n",
    "for filename, rows in df_title.groupby('UserId'):\n",
    "    i = 0\n",
    "    if i < len(rows)-1:\n",
    "        Src.append(dict_JobTitle_tokens2Id[rows[\"JobTitle_token\"].tolist()[i]])\n",
    "        Dst.append(dict_JobTitle_tokens2Id[rows[\"JobTitle_token\"].tolist()[i+1]])\n",
    "        Weight.append(1)\n",
    "        i+=1"
   ]
  },
  {
   "cell_type": "code",
   "execution_count": 23,
   "id": "1ac5bd20-31de-4730-95ea-098c3785e887",
   "metadata": {},
   "outputs": [
    {
     "data": {
      "text/plain": [
       "4907"
      ]
     },
     "execution_count": 23,
     "metadata": {},
     "output_type": "execute_result"
    }
   ],
   "source": [
    "len(Src)"
   ]
  },
  {
   "cell_type": "code",
   "execution_count": 18,
   "id": "dd94b358-f61d-42b6-baf3-cd7ea4fadd29",
   "metadata": {},
   "outputs": [],
   "source": [
    "list_JobTitle_tokens = dict_JobTitle_tokens2Id.keys()\n",
    "for tag in tags:\n",
    "    list_JobTitle_hastag = [title for title in list_JobTitle_tokens if tag in title.split()]\n",
    "    for i in range(len(list_JobTitle_hastag)):\n",
    "        for j in range(len(list_JobTitle_hastag)):\n",
    "            Src.append(dict_JobTitle_tokens2Id[list_JobTitle_hastag[i]])\n",
    "            Dst.append(dict_JobTitle_tokens2Id[list_JobTitle_hastag[j]])\n",
    "            Weight.append(1)"
   ]
  },
  {
   "cell_type": "code",
   "execution_count": 19,
   "id": "e3293139-152e-4477-91e0-439801386d79",
   "metadata": {},
   "outputs": [
    {
     "data": {
      "text/plain": [
       "7127610"
      ]
     },
     "execution_count": 19,
     "metadata": {},
     "output_type": "execute_result"
    }
   ],
   "source": [
    "len(Src)"
   ]
  },
  {
   "cell_type": "code",
   "execution_count": null,
   "id": "fcbff229-7bc6-44f1-93a3-020c9bf4c811",
   "metadata": {},
   "outputs": [],
   "source": []
  }
 ],
 "metadata": {
  "kernelspec": {
   "display_name": "py3.7",
   "language": "python",
   "name": "py3.7"
  },
  "language_info": {
   "codemirror_mode": {
    "name": "ipython",
    "version": 3
   },
   "file_extension": ".py",
   "mimetype": "text/x-python",
   "name": "python",
   "nbconvert_exporter": "python",
   "pygments_lexer": "ipython3",
   "version": "3.7.11"
  }
 },
 "nbformat": 4,
 "nbformat_minor": 5
}
