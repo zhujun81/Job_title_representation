{
 "cells": [
  {
   "cell_type": "code",
   "execution_count": 1,
   "id": "338936fe-a60c-4193-ab01-fa151b88ea51",
   "metadata": {},
   "outputs": [],
   "source": [
    "import os, sys\n",
    "\n",
    "import numpy as np\n",
    "import pandas as pd\n",
    "\n",
    "from collections import Counter, defaultdict"
   ]
  },
  {
   "cell_type": "markdown",
   "id": "1757413b-a43f-4c81-b316-52e92a81d243",
   "metadata": {},
   "source": [
    "# Step 1: Load annotated job data\n",
    "annoated by O*Net-SOC AutoCoder from user_history.tsv"
   ]
  },
  {
   "cell_type": "code",
   "execution_count": 2,
   "id": "b8195fbe-b9c2-482a-ad21-9e07dbdb8f20",
   "metadata": {},
   "outputs": [],
   "source": [
    "df_title_annotated = pd.read_csv('../data/cb12/raw/title_annotated.csv', sep=';')"
   ]
  },
  {
   "cell_type": "code",
   "execution_count": 3,
   "id": "037b97e8-71b4-421c-ac96-2515a2d4a9fd",
   "metadata": {},
   "outputs": [
    {
     "name": "stdout",
     "output_type": "stream",
     "text": [
      "(30000, 14)\n",
      "Unique JobTitle:  18616\n",
      "Unique JobTitle:  17407\n",
      "Unique Detailed Occupation:  682\n"
     ]
    }
   ],
   "source": [
    "print(df_title_annotated.shape)\n",
    "print(\"Unique JobTitle: \", len(df_title_annotated.JobTitle.unique()))\n",
    "print(\"Unique JobTitle: \", len(df_title_annotated.JobTitle_token_new.unique()))\n",
    "print(\"Unique Detailed Occupation: \", len(df_title_annotated.DetailedOccupation.unique()))"
   ]
  },
  {
   "cell_type": "markdown",
   "id": "bc498c95-99d5-4de7-94fd-95523824ffd6",
   "metadata": {},
   "source": [
    "### Remove Code='99-9999'"
   ]
  },
  {
   "cell_type": "code",
   "execution_count": 4,
   "id": "0decf70a-f2cd-46f6-bf85-5b9693a1027c",
   "metadata": {},
   "outputs": [
    {
     "name": "stdout",
     "output_type": "stream",
     "text": [
      "(29127, 14)\n",
      "Unique JobTitle:  18172\n",
      "Unique JobTitle:  17023\n",
      "Unique Detailed Occupation:  681\n"
     ]
    }
   ],
   "source": [
    "df_title_annotated = df_title_annotated[df_title_annotated['DetailedOccupation'] != '99-9999'] \n",
    "print(df_title_annotated.shape)\n",
    "print(\"Unique JobTitle: \", len(df_title_annotated.JobTitle.unique()))\n",
    "print(\"Unique JobTitle: \", len(df_title_annotated.JobTitle_token_new.unique()))\n",
    "print(\"Unique Detailed Occupation: \", len(df_title_annotated.DetailedOccupation.unique()))"
   ]
  },
  {
   "cell_type": "markdown",
   "id": "56c3699c-6c3d-49a5-8f30-a33ab7d65bfb",
   "metadata": {},
   "source": [
    "### Remove Score < 70"
   ]
  },
  {
   "cell_type": "code",
   "execution_count": 5,
   "id": "b1d85c07-a262-4d65-9079-94d64dcfaa29",
   "metadata": {},
   "outputs": [
    {
     "name": "stdout",
     "output_type": "stream",
     "text": [
      "(22590, 14)\n",
      "Unique JobTitle:  12908\n",
      "Unique JobTitle:  11934\n",
      "Unique Detailed Occupation:  563\n"
     ]
    }
   ],
   "source": [
    "df_title_annotated['Score_new'] = df_title_annotated['Score_new'].apply(lambda s: float(s))\n",
    "df_title_annotated = df_title_annotated[df_title_annotated['Score_new'] >= 70] \n",
    "print(df_title_annotated.shape)\n",
    "print(\"Unique JobTitle: \", len(df_title_annotated.JobTitle.unique()))\n",
    "print(\"Unique JobTitle: \", len(df_title_annotated.JobTitle_token_new.unique()))\n",
    "print(\"Unique Detailed Occupation: \", len(df_title_annotated.DetailedOccupation.unique()))"
   ]
  },
  {
   "cell_type": "markdown",
   "id": "bfeab2d1-9233-41d0-9016-79e9a03372dc",
   "metadata": {},
   "source": [
    "### Remove rare MinorGroup"
   ]
  },
  {
   "cell_type": "code",
   "execution_count": 6,
   "id": "d7ae3352-9e89-4f23-acc2-a3af7f861383",
   "metadata": {},
   "outputs": [
    {
     "name": "stdout",
     "output_type": "stream",
     "text": [
      "32\n"
     ]
    }
   ],
   "source": [
    "dict_count_MinorGroup = df_title_annotated.MinorGroup.value_counts().to_dict()\n",
    "MinorGroup_retain = [MinorGroup for MinorGroup, times in dict_count_MinorGroup.items() if times >= 200]\n",
    "print(len(MinorGroup_retain))"
   ]
  },
  {
   "cell_type": "code",
   "execution_count": 8,
   "id": "92631410-7ea0-4670-a193-8af59bf813f6",
   "metadata": {},
   "outputs": [],
   "source": [
    "df_title_annotated = df_title_annotated[df_title_annotated.MinorGroup.isin(MinorGroup_retain)]"
   ]
  },
  {
   "cell_type": "code",
   "execution_count": 9,
   "id": "81f1513d-e500-4c09-bd10-61e479fb2d14",
   "metadata": {},
   "outputs": [
    {
     "data": {
      "text/plain": [
       "(19312, 14)"
      ]
     },
     "execution_count": 9,
     "metadata": {},
     "output_type": "execute_result"
    }
   ],
   "source": [
    "df_title_annotated.shape"
   ]
  },
  {
   "cell_type": "markdown",
   "id": "380c5031-b57f-4608-8e6d-2d86bc2bc055",
   "metadata": {},
   "source": [
    "# Step 3: Prepare transition data"
   ]
  },
  {
   "cell_type": "markdown",
   "id": "e8641867-bf27-4ebd-9128-9577736da6de",
   "metadata": {},
   "source": [
    "### Combine all infor"
   ]
  },
  {
   "cell_type": "code",
   "execution_count": 10,
   "id": "de03a86b-2740-46c0-b0be-706e6726b1e5",
   "metadata": {},
   "outputs": [],
   "source": [
    "all_UserID = [] #list of UserID\n",
    "all_JobTitle = [] #list of JobTitle\n",
    "all_DetailedOccupation = [] #list of DetailedOccupation\n",
    "all_MinorGroup = [] #list of MinorGroup\n",
    "all_MajorGroup = [] #list of MajorGroup\n",
    "all_items = []\n",
    "\n",
    "\n",
    "for index, rows in df_title_annotated.groupby('UserID'):\n",
    "    UserID = rows['UserID'].unique()[0]\n",
    "    all_UserID.append(UserID)\n",
    "    \n",
    "    JobTitle_thisResume = [] #JobTitle items in a resume\n",
    "    DetailedOccupation_thisResume = [] #DetailedOccupation items in a resume\n",
    "    MinorGroup_thisResume = [] #MinorGroup items in a resume\n",
    "    MajorGroup_thisResume = [] #MajorGroup items in a resume \n",
    "    \n",
    "    for title, MajorGroup, MinorGroup, DetailedOccupation in zip(rows['JobTitle_token_new'], rows['MajorGroup'], rows['MinorGroup'], rows['DetailedOccupation']):\n",
    "        JobTitle_thisResume.append(title)\n",
    "        DetailedOccupation_thisResume.append(DetailedOccupation)\n",
    "        MinorGroup_thisResume.append(MinorGroup)\n",
    "        MajorGroup_thisResume.append(MajorGroup)\n",
    "        \n",
    "    \n",
    "    all_JobTitle.append(JobTitle_thisResume)\n",
    "    all_DetailedOccupation.append(DetailedOccupation_thisResume)\n",
    "    all_MinorGroup.append(MinorGroup_thisResume)\n",
    "    all_MajorGroup.append(MajorGroup_thisResume)"
   ]
  },
  {
   "cell_type": "code",
   "execution_count": 11,
   "id": "e6caa37f-937f-4320-9a80-ec35285e3adf",
   "metadata": {},
   "outputs": [
    {
     "name": "stdout",
     "output_type": "stream",
     "text": [
      "(6131, 5)\n"
     ]
    }
   ],
   "source": [
    "transition = {\"UserID\": all_UserID, \n",
    "              \"JobTitle\": all_JobTitle, \n",
    "              \"DetailedOccupation\": all_DetailedOccupation,\n",
    "              \"MinorGroup\": all_MinorGroup,\n",
    "              \"MajorGroup\": all_MajorGroup}\n",
    "df_transition_raw = pd.DataFrame(transition)\n",
    "print(df_transition_raw.shape)"
   ]
  },
  {
   "cell_type": "code",
   "execution_count": 12,
   "id": "3f85a98e-674a-4bad-a722-c9c110235089",
   "metadata": {},
   "outputs": [],
   "source": [
    "def Combine_allInf(DetailedOccupations, MinorGroups, MajorGroups, JobTitles):\n",
    "    combined_EmploymentItems = []\n",
    "    for DetailedOccupation, MinorGroup, MajorGroup, JobTitle in zip(DetailedOccupations, MinorGroups, MajorGroups, JobTitles):\n",
    "        combined_EmploymentItem = (DetailedOccupation, MinorGroup, MajorGroup, JobTitle)\n",
    "        combined_EmploymentItems.append(combined_EmploymentItem)\n",
    "    \n",
    "    return combined_EmploymentItems\n",
    "    \n",
    "df_transition_raw['Combined_EmploymentItems'] = df_transition_raw.apply(lambda row: Combine_allInf(row['DetailedOccupation'], row['MinorGroup'], row['MajorGroup'], row['JobTitle']), axis = 1)"
   ]
  },
  {
   "cell_type": "code",
   "execution_count": 13,
   "id": "8d98b9ba-eae5-4b66-8703-c23ba4679381",
   "metadata": {},
   "outputs": [
    {
     "name": "stdout",
     "output_type": "stream",
     "text": [
      "(6131, 6)\n"
     ]
    }
   ],
   "source": [
    "print(df_transition_raw.shape)"
   ]
  },
  {
   "cell_type": "markdown",
   "id": "9b464985-0a0c-44e3-91b0-fa3cd452f884",
   "metadata": {},
   "source": [
    "### Remove instances with Valid_EmploymentItems < 2"
   ]
  },
  {
   "cell_type": "code",
   "execution_count": 17,
   "id": "b16f6f8b-48a6-4e3f-89f6-0c7c36a24ba0",
   "metadata": {},
   "outputs": [
    {
     "name": "stdout",
     "output_type": "stream",
     "text": [
      "(4907, 7)\n"
     ]
    }
   ],
   "source": [
    "df_transition_raw['Num_EmploymentItems'] = df_transition_raw.Combined_EmploymentItems.apply(lambda x: len(x))\n",
    "df_transition_final = df_transition_raw[df_transition_raw['Num_EmploymentItems'] > 1] \n",
    "print(df_transition_final.shape)"
   ]
  },
  {
   "cell_type": "code",
   "execution_count": 18,
   "id": "23711ebe-6c24-49a6-b3dc-ede09ce33af6",
   "metadata": {},
   "outputs": [],
   "source": [
    "df_transition_final.to_csv('../data/cb12/processed/job_transition_MinorGroup200.csv', sep=';')"
   ]
  },
  {
   "cell_type": "code",
   "execution_count": 3,
   "id": "1ed392fa-ad16-44fa-844c-7b63ca00686e",
   "metadata": {},
   "outputs": [],
   "source": [
    "df_transition = pd.read_csv('./data/cb12/processed/job_transition_MinorGroup200.csv', sep=';')"
   ]
  },
  {
   "cell_type": "code",
   "execution_count": 5,
   "id": "0afa8e96-32c9-4478-aa25-b27b81b80983",
   "metadata": {},
   "outputs": [
    {
     "data": {
      "text/html": [
       "<div>\n",
       "<style scoped>\n",
       "    .dataframe tbody tr th:only-of-type {\n",
       "        vertical-align: middle;\n",
       "    }\n",
       "\n",
       "    .dataframe tbody tr th {\n",
       "        vertical-align: top;\n",
       "    }\n",
       "\n",
       "    .dataframe thead th {\n",
       "        text-align: right;\n",
       "    }\n",
       "</style>\n",
       "<table border=\"1\" class=\"dataframe\">\n",
       "  <thead>\n",
       "    <tr style=\"text-align: right;\">\n",
       "      <th></th>\n",
       "      <th>UserID</th>\n",
       "      <th>JobTitle</th>\n",
       "      <th>DetailedOccupation</th>\n",
       "      <th>MinorGroup</th>\n",
       "      <th>MajorGroup</th>\n",
       "      <th>Combined_EmploymentItems</th>\n",
       "      <th>filtered_EmploymentItems</th>\n",
       "      <th>Num_filtered_EmploymentItems</th>\n",
       "    </tr>\n",
       "  </thead>\n",
       "  <tbody>\n",
       "    <tr>\n",
       "      <th>0</th>\n",
       "      <td>72</td>\n",
       "      <td>['lecturer department anthropology', 'elderly ...</td>\n",
       "      <td>['25-1061', '31-1122', '43-6014', '27-3041', '...</td>\n",
       "      <td>['25-10', '31-10', '43-60', '27-30', '25-90', ...</td>\n",
       "      <td>['25', '31', '43', '27', '25', '39']</td>\n",
       "      <td>[('25-1061', '25-10', '25', 'lecturer departme...</td>\n",
       "      <td>[('31-1122', '31-10', '31', 'elderly caregiver...</td>\n",
       "      <td>2</td>\n",
       "    </tr>\n",
       "    <tr>\n",
       "      <th>1</th>\n",
       "      <td>131</td>\n",
       "      <td>['data analyst', 'assistant business analyst']</td>\n",
       "      <td>['13-1111', '13-1161']</td>\n",
       "      <td>['13-10', '13-10']</td>\n",
       "      <td>['13', '13']</td>\n",
       "      <td>[('13-1111', '13-10', '13', 'data analyst'), (...</td>\n",
       "      <td>[('13-1111', '13-10', '13', 'data analyst'), (...</td>\n",
       "      <td>2</td>\n",
       "    </tr>\n",
       "    <tr>\n",
       "      <th>2</th>\n",
       "      <td>162</td>\n",
       "      <td>['graduate assistant', 'treasurer', 'secretary...</td>\n",
       "      <td>['25-9044', '11-3031', '43-6014', '11-9179']</td>\n",
       "      <td>['25-90', '11-30', '43-60', '11-90']</td>\n",
       "      <td>['25', '11', '43', '11']</td>\n",
       "      <td>[('25-9044', '25-90', '25', 'graduate assistan...</td>\n",
       "      <td>[('11-3031', '11-30', '11', 'treasurer'), ('43...</td>\n",
       "      <td>3</td>\n",
       "    </tr>\n",
       "    <tr>\n",
       "      <th>3</th>\n",
       "      <td>178</td>\n",
       "      <td>['materials manager', 'purchasing manager', 'p...</td>\n",
       "      <td>['11-3061', '11-3061', '13-1023', '13-1023']</td>\n",
       "      <td>['11-30', '11-30', '13-10', '13-10']</td>\n",
       "      <td>['11', '11', '13', '13']</td>\n",
       "      <td>[('11-3061', '11-30', '11', 'materials manager...</td>\n",
       "      <td>[('11-3061', '11-30', '11', 'materials manager...</td>\n",
       "      <td>4</td>\n",
       "    </tr>\n",
       "    <tr>\n",
       "      <th>4</th>\n",
       "      <td>344</td>\n",
       "      <td>['restaurant server', 'cashier', 'cashier']</td>\n",
       "      <td>['35-3031', '41-2011', '41-2011']</td>\n",
       "      <td>['35-30', '41-20', '41-20']</td>\n",
       "      <td>['35', '41', '41']</td>\n",
       "      <td>[('35-3031', '35-30', '35', 'restaurant server...</td>\n",
       "      <td>[('35-3031', '35-30', '35', 'restaurant server...</td>\n",
       "      <td>3</td>\n",
       "    </tr>\n",
       "    <tr>\n",
       "      <th>...</th>\n",
       "      <td>...</td>\n",
       "      <td>...</td>\n",
       "      <td>...</td>\n",
       "      <td>...</td>\n",
       "      <td>...</td>\n",
       "      <td>...</td>\n",
       "      <td>...</td>\n",
       "      <td>...</td>\n",
       "    </tr>\n",
       "    <tr>\n",
       "      <th>4902</th>\n",
       "      <td>154827</td>\n",
       "      <td>['customer service coordinator', 'customer ser...</td>\n",
       "      <td>['43-1011', '43-4051', '43-4051']</td>\n",
       "      <td>['43-10', '43-40', '43-40']</td>\n",
       "      <td>['43', '43', '43']</td>\n",
       "      <td>[('43-1011', '43-10', '43', 'customer service ...</td>\n",
       "      <td>[('43-1011', '43-10', '43', 'customer service ...</td>\n",
       "      <td>3</td>\n",
       "    </tr>\n",
       "    <tr>\n",
       "      <th>4903</th>\n",
       "      <td>154832</td>\n",
       "      <td>['administrative assistant', 'inventory associ...</td>\n",
       "      <td>['43-6014', '53-7065', '41-2031']</td>\n",
       "      <td>['43-60', '53-70', '41-20']</td>\n",
       "      <td>['43', '53', '41']</td>\n",
       "      <td>[('43-6014', '43-60', '43', 'administrative as...</td>\n",
       "      <td>[('43-6014', '43-60', '43', 'administrative as...</td>\n",
       "      <td>3</td>\n",
       "    </tr>\n",
       "    <tr>\n",
       "      <th>4904</th>\n",
       "      <td>154862</td>\n",
       "      <td>['accountant', 'account payable payroll specia...</td>\n",
       "      <td>['13-2011', '43-3031', '33-1012']</td>\n",
       "      <td>['13-20', '43-30', '33-10']</td>\n",
       "      <td>['13', '43', '33']</td>\n",
       "      <td>[('13-2011', '13-20', '13', 'accountant'), ('4...</td>\n",
       "      <td>[('13-2011', '13-20', '13', 'accountant'), ('4...</td>\n",
       "      <td>2</td>\n",
       "    </tr>\n",
       "    <tr>\n",
       "      <th>4905</th>\n",
       "      <td>154863</td>\n",
       "      <td>['director technical operations', 'telecom net...</td>\n",
       "      <td>['27-2012', '15-1244', '13-1082']</td>\n",
       "      <td>['27-20', '15-12', '13-10']</td>\n",
       "      <td>['27', '15', '13']</td>\n",
       "      <td>[('27-2012', '27-20', '27', 'director technica...</td>\n",
       "      <td>[('15-1244', '15-12', '15', 'telecom network e...</td>\n",
       "      <td>2</td>\n",
       "    </tr>\n",
       "    <tr>\n",
       "      <th>4906</th>\n",
       "      <td>154865</td>\n",
       "      <td>['customer advocate', 'sales associate', 'head...</td>\n",
       "      <td>['43-4051', '41-2031', '41-2011', '43-5031']</td>\n",
       "      <td>['43-40', '41-20', '41-20', '43-50']</td>\n",
       "      <td>['43', '41', '41', '43']</td>\n",
       "      <td>[('43-4051', '43-40', '43', 'customer advocate...</td>\n",
       "      <td>[('43-4051', '43-40', '43', 'customer advocate...</td>\n",
       "      <td>4</td>\n",
       "    </tr>\n",
       "  </tbody>\n",
       "</table>\n",
       "<p>4907 rows × 8 columns</p>\n",
       "</div>"
      ],
      "text/plain": [
       "      UserID                                           JobTitle  \\\n",
       "0         72  ['lecturer department anthropology', 'elderly ...   \n",
       "1        131     ['data analyst', 'assistant business analyst']   \n",
       "2        162  ['graduate assistant', 'treasurer', 'secretary...   \n",
       "3        178  ['materials manager', 'purchasing manager', 'p...   \n",
       "4        344        ['restaurant server', 'cashier', 'cashier']   \n",
       "...      ...                                                ...   \n",
       "4902  154827  ['customer service coordinator', 'customer ser...   \n",
       "4903  154832  ['administrative assistant', 'inventory associ...   \n",
       "4904  154862  ['accountant', 'account payable payroll specia...   \n",
       "4905  154863  ['director technical operations', 'telecom net...   \n",
       "4906  154865  ['customer advocate', 'sales associate', 'head...   \n",
       "\n",
       "                                     DetailedOccupation  \\\n",
       "0     ['25-1061', '31-1122', '43-6014', '27-3041', '...   \n",
       "1                                ['13-1111', '13-1161']   \n",
       "2          ['25-9044', '11-3031', '43-6014', '11-9179']   \n",
       "3          ['11-3061', '11-3061', '13-1023', '13-1023']   \n",
       "4                     ['35-3031', '41-2011', '41-2011']   \n",
       "...                                                 ...   \n",
       "4902                  ['43-1011', '43-4051', '43-4051']   \n",
       "4903                  ['43-6014', '53-7065', '41-2031']   \n",
       "4904                  ['13-2011', '43-3031', '33-1012']   \n",
       "4905                  ['27-2012', '15-1244', '13-1082']   \n",
       "4906       ['43-4051', '41-2031', '41-2011', '43-5031']   \n",
       "\n",
       "                                             MinorGroup  \\\n",
       "0     ['25-10', '31-10', '43-60', '27-30', '25-90', ...   \n",
       "1                                    ['13-10', '13-10']   \n",
       "2                  ['25-90', '11-30', '43-60', '11-90']   \n",
       "3                  ['11-30', '11-30', '13-10', '13-10']   \n",
       "4                           ['35-30', '41-20', '41-20']   \n",
       "...                                                 ...   \n",
       "4902                        ['43-10', '43-40', '43-40']   \n",
       "4903                        ['43-60', '53-70', '41-20']   \n",
       "4904                        ['13-20', '43-30', '33-10']   \n",
       "4905                        ['27-20', '15-12', '13-10']   \n",
       "4906               ['43-40', '41-20', '41-20', '43-50']   \n",
       "\n",
       "                                MajorGroup  \\\n",
       "0     ['25', '31', '43', '27', '25', '39']   \n",
       "1                             ['13', '13']   \n",
       "2                 ['25', '11', '43', '11']   \n",
       "3                 ['11', '11', '13', '13']   \n",
       "4                       ['35', '41', '41']   \n",
       "...                                    ...   \n",
       "4902                    ['43', '43', '43']   \n",
       "4903                    ['43', '53', '41']   \n",
       "4904                    ['13', '43', '33']   \n",
       "4905                    ['27', '15', '13']   \n",
       "4906              ['43', '41', '41', '43']   \n",
       "\n",
       "                               Combined_EmploymentItems  \\\n",
       "0     [('25-1061', '25-10', '25', 'lecturer departme...   \n",
       "1     [('13-1111', '13-10', '13', 'data analyst'), (...   \n",
       "2     [('25-9044', '25-90', '25', 'graduate assistan...   \n",
       "3     [('11-3061', '11-30', '11', 'materials manager...   \n",
       "4     [('35-3031', '35-30', '35', 'restaurant server...   \n",
       "...                                                 ...   \n",
       "4902  [('43-1011', '43-10', '43', 'customer service ...   \n",
       "4903  [('43-6014', '43-60', '43', 'administrative as...   \n",
       "4904  [('13-2011', '13-20', '13', 'accountant'), ('4...   \n",
       "4905  [('27-2012', '27-20', '27', 'director technica...   \n",
       "4906  [('43-4051', '43-40', '43', 'customer advocate...   \n",
       "\n",
       "                               filtered_EmploymentItems  \\\n",
       "0     [('31-1122', '31-10', '31', 'elderly caregiver...   \n",
       "1     [('13-1111', '13-10', '13', 'data analyst'), (...   \n",
       "2     [('11-3031', '11-30', '11', 'treasurer'), ('43...   \n",
       "3     [('11-3061', '11-30', '11', 'materials manager...   \n",
       "4     [('35-3031', '35-30', '35', 'restaurant server...   \n",
       "...                                                 ...   \n",
       "4902  [('43-1011', '43-10', '43', 'customer service ...   \n",
       "4903  [('43-6014', '43-60', '43', 'administrative as...   \n",
       "4904  [('13-2011', '13-20', '13', 'accountant'), ('4...   \n",
       "4905  [('15-1244', '15-12', '15', 'telecom network e...   \n",
       "4906  [('43-4051', '43-40', '43', 'customer advocate...   \n",
       "\n",
       "      Num_filtered_EmploymentItems  \n",
       "0                                2  \n",
       "1                                2  \n",
       "2                                3  \n",
       "3                                4  \n",
       "4                                3  \n",
       "...                            ...  \n",
       "4902                             3  \n",
       "4903                             3  \n",
       "4904                             2  \n",
       "4905                             2  \n",
       "4906                             4  \n",
       "\n",
       "[4907 rows x 8 columns]"
      ]
     },
     "execution_count": 5,
     "metadata": {},
     "output_type": "execute_result"
    }
   ],
   "source": [
    "df_transition"
   ]
  },
  {
   "cell_type": "code",
   "execution_count": null,
   "id": "7d6225ad-26ce-4073-9370-c544a4d849aa",
   "metadata": {},
   "outputs": [],
   "source": []
  }
 ],
 "metadata": {
  "kernelspec": {
   "display_name": "py3.7",
   "language": "python",
   "name": "py3.7"
  },
  "language_info": {
   "codemirror_mode": {
    "name": "ipython",
    "version": 3
   },
   "file_extension": ".py",
   "mimetype": "text/x-python",
   "name": "python",
   "nbconvert_exporter": "python",
   "pygments_lexer": "ipython3",
   "version": "3.7.11"
  }
 },
 "nbformat": 4,
 "nbformat_minor": 5
}
